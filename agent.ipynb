{
 "cells": [
  {
   "cell_type": "code",
   "execution_count": 41,
   "metadata": {},
   "outputs": [],
   "source": [
    "class ref_agent():\n",
    "    record = []\n",
    "    def __init__(self,d_temp):\n",
    "        self.desired_temp = d_temp\n",
    "    def percept(self,c_temp):\n",
    "        self.current_temp = c_temp\n",
    "    def actuator(self,room):\n",
    "        flag = True\n",
    "        if len(ref_agent.record) != 0:\n",
    "            for i in ref_agent.record:\n",
    "                for j in range(0,len(i)-1):\n",
    "                    if i[j+1] == self.current_temp:\n",
    "                        flag = False\n",
    "                        return f'Room: {i[j]}, Temp: {i[j+1]} , Act: {i[j+2]}'\n",
    "                    \n",
    "        if flag == True:\n",
    "            if self.current_temp > self.desired_temp:\n",
    "                return f'Room: {room}, Temp: {self.current_temp} , Act: Turn off the heater.'\n",
    "            else:\n",
    "                return f'Room: {room}, Temp: {self.current_temp} , Act: Turn on the heater.'\n",
    "            \n",
    "        "
   ]
  },
  {
   "cell_type": "code",
   "execution_count": 15,
   "metadata": {},
   "outputs": [
    {
     "data": {
      "text/plain": [
       "'Room: living room, Temp: 23 , Act: turn on the heater'"
      ]
     },
     "execution_count": 15,
     "metadata": {},
     "output_type": "execute_result"
    }
   ],
   "source": [
    "agent = ref_agent(22)\n",
    "agent.actuator()"
   ]
  },
  {
   "cell_type": "code",
   "execution_count": 42,
   "metadata": {},
   "outputs": [
    {
     "name": "stdout",
     "output_type": "stream",
     "text": [
      "Room: no, Temp: 32 , Act: Turn off the heater.\n",
      "list is: ['Room: no, Temp: 32 , Act: Turn off the heater.']\n"
     ]
    }
   ],
   "source": [
    "def room_temp():\n",
    "    flag = True\n",
    "    while flag == True:\n",
    "        agent = ref_agent(23)\n",
    "        room = input('Enter the room name:')\n",
    "        temp = int(input(\"Enter the room temp: \"))\n",
    "        agent.percept(temp)\n",
    "        print(agent.actuator(room))\n",
    "        agent.record.append((agent.actuator(room)))\n",
    "        op = input('Do you want to know about another room: ')\n",
    "        if op.lower() == 'yes':\n",
    "            continue\n",
    "        else:\n",
    "            flag = False\n",
    "            print(f'list is: {agent.record}')\n",
    "room_temp() \n"
   ]
  }
 ],
 "metadata": {
  "kernelspec": {
   "display_name": "Python 3",
   "language": "python",
   "name": "python3"
  },
  "language_info": {
   "codemirror_mode": {
    "name": "ipython",
    "version": 3
   },
   "file_extension": ".py",
   "mimetype": "text/x-python",
   "name": "python",
   "nbconvert_exporter": "python",
   "pygments_lexer": "ipython3",
   "version": "3.12.0"
  }
 },
 "nbformat": 4,
 "nbformat_minor": 2
}
