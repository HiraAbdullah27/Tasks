{
 "cells": [
  {
   "cell_type": "code",
   "execution_count": 1,
   "id": "c6c3dcb2-0384-4a72-ae4b-c4f1c37991d2",
   "metadata": {},
   "outputs": [
    {
     "name": "stdout",
     "output_type": "stream",
     "text": [
      "5\n"
     ]
    }
   ],
   "source": [
    "import math\n",
    "def minimax(depth, index, max_turn,scores,target):\n",
    "    if depth == target:\n",
    "        return scores[index]\n",
    "    if max_turn:\n",
    "        return max(minimax (depth + 1, index * 2, False,scores, target),\n",
    "                   minimax(depth + 1, index * 2 + 1, False, scores, target))\n",
    "    else:\n",
    "        return min(minimax (depth + 1, index * 2, True, scores, target),\n",
    "                  minimax(depth + 1, index * 2 +1, True, scores, target))\n",
    "scores=[2,5, 6, 8, 9, 7, 3, 1]\n",
    "tree= math.log(len(scores), 2)\n",
    "print(minimax(0,0, True, scores, tree ))\n",
    "        "
   ]
  },
  {
   "cell_type": "code",
   "execution_count": 4,
   "id": "c5f24bf6-3061-4370-917f-a975dad3ace7",
   "metadata": {},
   "outputs": [
    {
     "name": "stdout",
     "output_type": "stream",
     "text": [
      "5\n"
     ]
    }
   ],
   "source": [
    "import math\n",
    "\n",
    "def minimax(depth, index, max_turn, scores, target):\n",
    "    if depth == target:\n",
    "        return scores[index]\n",
    "    if max_turn:\n",
    "        return max(minimax(depth + 1, index * 2, False, scores, target),\n",
    "                   minimax(depth + 1, index * 2 + 1, False, scores, target))\n",
    "    else:\n",
    "        return min(minimax(depth + 1, index * 2, True, scores, target),\n",
    "                   minimax(depth + 1, index * 2 + 1, True, scores, target))\n",
    "\n",
    "scores = [2, 5, 6, 8, 9, 7, 3, 1]\n",
    "tree_depth = int(math.log(len(scores), 2))\n",
    "print(minimax(0, 0, True, scores, tree_depth))\n"
   ]
  },
  {
   "cell_type": "code",
   "execution_count": 6,
   "id": "bf20e898",
   "metadata": {},
   "outputs": [
    {
     "name": "stdout",
     "output_type": "stream",
     "text": [
      "5\n"
     ]
    }
   ],
   "source": [
    "import math\n",
    "\n",
    "def minimax(depth, index, max_turn, scores, target):\n",
    "    if depth == target:\n",
    "        return scores[index]\n",
    "    if max_turn:\n",
    "        return max(minimax(depth + 1, index * 2, False, scores, target),\n",
    "                   minimax(depth + 1, index * 2 + 1, False, scores, target))\n",
    "    else:\n",
    "        return min(minimax(depth + 1, index * 2, True, scores, target),\n",
    "                   minimax(depth + 1, index * 2 + 1, True, scores, target))\n",
    "\n",
    "scores = [2, 5, 6, 8, 9, 7, 3, 1]\n",
    "tree_depth = int(math.log(len(scores), 2))\n",
    "print(minimax(0, 0, True, scores, tree_depth))\n"
   ]
  }
 ],
 "metadata": {
  "kernelspec": {
   "display_name": "base",
   "language": "python",
   "name": "python3"
  },
  "language_info": {
   "codemirror_mode": {
    "name": "ipython",
    "version": 3
   },
   "file_extension": ".py",
   "mimetype": "text/x-python",
   "name": "python",
   "nbconvert_exporter": "python",
   "pygments_lexer": "ipython3",
   "version": "3.12.4"
  }
 },
 "nbformat": 4,
 "nbformat_minor": 5
}
